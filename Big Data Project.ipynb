{
 "cells": [
  {
   "cell_type": "markdown",
   "metadata": {},
   "source": [
    "# Big Data Project\n",
    "# *https://raw.githubusercontent.com/devbabar/realestate_data_analysis/master/Sacramento_realestate_transactions.csv*\n",
    "# House Price Prediction\n",
    "# 8771 - Danial Ahmed\n",
    "# 8774 - Talha Akram\n",
    "# 8797 - Shayan akhter"
   ]
  },
  {
   "cell_type": "markdown",
   "metadata": {},
   "source": [
    "### The purpose of this project is to Analyze, Pre-Process and apply Machine learning algorithm(s) on House Price dataset to predict new values."
   ]
  },
  {
   "cell_type": "markdown",
   "metadata": {},
   "source": [
    "### Our dataset contains 12 columns among which our target label is price\n",
    "#### Street column contains street address/house number of the house\n",
    "#### City column contains name of city in which house was sold\n",
    "#### Zip contains zip code of the area\n",
    "#### State contains the state/province in which house was sold\n",
    "#### Beds column is used define number of bedrooms present in the house\n",
    "#### Baths column is used for number of bathrooms in the house\n",
    "#### sq__ft contains total Square Foot Area of the house\n",
    "#### type defines which type of house was is it (residential, commerical etc)\n",
    "#### latitude, longitude are the coordinates of the house"
   ]
  },
  {
   "cell_type": "markdown",
   "metadata": {},
   "source": [
    "### We will first use Pyspark to analyze the data."
   ]
  },
  {
   "cell_type": "markdown",
   "metadata": {},
   "source": [
    "#### Import Pyspark and read csv"
   ]
  },
  {
   "cell_type": "code",
   "execution_count": 1,
   "metadata": {},
   "outputs": [],
   "source": [
    "import pyspark\n",
    "from pyspark import SparkContext\n",
    "from pyspark.sql import Row, SQLContext\n",
    "import numpy as np"
   ]
  },
  {
   "cell_type": "code",
   "execution_count": 2,
   "metadata": {},
   "outputs": [],
   "source": [
    "sc = SparkContext()"
   ]
  },
  {
   "cell_type": "code",
   "execution_count": 3,
   "metadata": {},
   "outputs": [],
   "source": [
    "sqlContext = SQLContext(sc)\n",
    "df = sqlContext.read.csv(\"house_price_dataset.csv\",header=True,inferSchema=True)"
   ]
  },
  {
   "cell_type": "code",
   "execution_count": 4,
   "metadata": {},
   "outputs": [
    {
     "name": "stdout",
     "output_type": "stream",
     "text": [
      "root\n",
      " |-- street: string (nullable = true)\n",
      " |-- city: string (nullable = true)\n",
      " |-- zip: integer (nullable = true)\n",
      " |-- state: string (nullable = true)\n",
      " |-- beds: integer (nullable = true)\n",
      " |-- baths: integer (nullable = true)\n",
      " |-- sq__ft: integer (nullable = true)\n",
      " |-- type: string (nullable = true)\n",
      " |-- sale_date: string (nullable = true)\n",
      " |-- price: integer (nullable = true)\n",
      " |-- latitude: double (nullable = true)\n",
      " |-- longitude: double (nullable = true)\n",
      "\n"
     ]
    }
   ],
   "source": [
    "df.printSchema()"
   ]
  },
  {
   "cell_type": "code",
   "execution_count": 5,
   "metadata": {},
   "outputs": [
    {
     "name": "stdout",
     "output_type": "stream",
     "text": [
      "+----------------+----------+-----+-----+----+-----+------+-----------+--------------------+-----+---------+-----------+\n",
      "|          street|      city|  zip|state|beds|baths|sq__ft|       type|           sale_date|price| latitude|  longitude|\n",
      "+----------------+----------+-----+-----+----+-----+------+-----------+--------------------+-----+---------+-----------+\n",
      "|    3526 HIGH ST|SACRAMENTO|95838|   CA|   2|    1|   836|Residential|Wed May 21 00:00:...|59222|38.631913|-121.434879|\n",
      "|     51 OMAHA CT|SACRAMENTO|95823|   CA|   3|    1|  1167|Residential|Wed May 21 00:00:...|68212|38.478902|-121.431028|\n",
      "|  2796 BRANCH ST|SACRAMENTO|95815|   CA|   2|    1|   796|Residential|Wed May 21 00:00:...|68880|38.618305|-121.443839|\n",
      "|2805 JANETTE WAY|SACRAMENTO|95815|   CA|   2|    1|   852|Residential|Wed May 21 00:00:...|69307|38.616835|-121.439146|\n",
      "| 6001 MCMAHON DR|SACRAMENTO|95824|   CA|   2|    1|   797|Residential|Wed May 21 00:00:...|81900| 38.51947|-121.435768|\n",
      "+----------------+----------+-----+-----+----+-----+------+-----------+--------------------+-----+---------+-----------+\n",
      "only showing top 5 rows\n",
      "\n"
     ]
    }
   ],
   "source": [
    "df.show(5)"
   ]
  },
  {
   "cell_type": "markdown",
   "metadata": {},
   "source": [
    "#### Group by to see number of entries for each city"
   ]
  },
  {
   "cell_type": "code",
   "execution_count": 6,
   "metadata": {},
   "outputs": [
    {
     "name": "stdout",
     "output_type": "stream",
     "text": [
      "+---------------+-----------+\n",
      "|           city|count(city)|\n",
      "+---------------+-----------+\n",
      "|DIAMOND SPRINGS|          1|\n",
      "|         PENRYN|          1|\n",
      "|   MEADOW VISTA|          1|\n",
      "|         MATHER|          1|\n",
      "|SHINGLE SPRINGS|          1|\n",
      "|     FORESTHILL|          1|\n",
      "|  GARDEN VALLEY|          1|\n",
      "|    SLOUGHHOUSE|          1|\n",
      "|   WALNUT GROVE|          1|\n",
      "|           COOL|          1|\n",
      "|      GREENWOOD|          1|\n",
      "|      EL DORADO|          2|\n",
      "|         LOOMIS|          2|\n",
      "|WEST SACRAMENTO|          3|\n",
      "| RANCHO MURIETA|          3|\n",
      "|    GRANITE BAY|          3|\n",
      "|  POLLOCK PINES|          3|\n",
      "|        ELVERTA|          4|\n",
      "|     GOLD RIVER|          4|\n",
      "|         WILTON|          5|\n",
      "|         AUBURN|          5|\n",
      "|   CAMERON PARK|          9|\n",
      "|      FAIR OAKS|          9|\n",
      "|    PLACERVILLE|         10|\n",
      "|     ORANGEVALE|         11|\n",
      "|      RIO LINDA|         13|\n",
      "|        ROCKLIN|         17|\n",
      "|         FOLSOM|         17|\n",
      "|     CARMICHAEL|         20|\n",
      "|           GALT|         21|\n",
      "|NORTH HIGHLANDS|         21|\n",
      "|EL DORADO HILLS|         23|\n",
      "| RANCHO CORDOVA|         28|\n",
      "|       ANTELOPE|         33|\n",
      "| CITRUS HEIGHTS|         35|\n",
      "|      ROSEVILLE|         48|\n",
      "|        LINCOLN|         72|\n",
      "|      ELK GROVE|        114|\n",
      "|     SACRAMENTO|        439|\n",
      "+---------------+-----------+\n",
      "\n"
     ]
    }
   ],
   "source": [
    "df.groupby('city').agg({'city':'count'}).sort(\"count(city)\").show(200)"
   ]
  },
  {
   "cell_type": "markdown",
   "metadata": {},
   "source": [
    "#### Group by to see number of entries for each state"
   ]
  },
  {
   "cell_type": "code",
   "execution_count": 7,
   "metadata": {},
   "outputs": [
    {
     "name": "stdout",
     "output_type": "stream",
     "text": [
      "+-----+------------+\n",
      "|state|count(state)|\n",
      "+-----+------------+\n",
      "|   CA|         985|\n",
      "+-----+------------+\n",
      "\n"
     ]
    }
   ],
   "source": [
    "df.groupby('state').agg({'state':'count'}).sort(\"count(state)\").show(200)"
   ]
  },
  {
   "cell_type": "markdown",
   "metadata": {},
   "source": [
    "##### Only one state?"
   ]
  },
  {
   "cell_type": "markdown",
   "metadata": {},
   "source": [
    "#### Group by to see number of entries for each type"
   ]
  },
  {
   "cell_type": "code",
   "execution_count": 8,
   "metadata": {},
   "outputs": [
    {
     "name": "stdout",
     "output_type": "stream",
     "text": [
      "+------------+-----------+\n",
      "|        type|count(type)|\n",
      "+------------+-----------+\n",
      "|      Unkown|          1|\n",
      "|Multi-Family|         13|\n",
      "|       Condo|         54|\n",
      "| Residential|        917|\n",
      "+------------+-----------+\n",
      "\n"
     ]
    }
   ],
   "source": [
    "df.groupby('type').agg({'type':'count'}).sort(\"count(type)\").show(200)"
   ]
  },
  {
   "cell_type": "markdown",
   "metadata": {},
   "source": [
    "#### Group by to see number of entries for number of bedrooms"
   ]
  },
  {
   "cell_type": "code",
   "execution_count": 9,
   "metadata": {},
   "outputs": [
    {
     "name": "stdout",
     "output_type": "stream",
     "text": [
      "+----+-----------+\n",
      "|beds|count(beds)|\n",
      "+----+-----------+\n",
      "|   8|          1|\n",
      "|   6|          3|\n",
      "|   1|         10|\n",
      "|   5|         59|\n",
      "|   0|        108|\n",
      "|   2|        133|\n",
      "|   4|        258|\n",
      "|   3|        413|\n",
      "+----+-----------+\n",
      "\n"
     ]
    }
   ],
   "source": [
    "df.groupby('beds').agg({'beds':'count'}).sort(\"count(beds)\").show(200)"
   ]
  },
  {
   "cell_type": "markdown",
   "metadata": {},
   "source": [
    "#### Group by to see number of entries for number of bathrooms"
   ]
  },
  {
   "cell_type": "code",
   "execution_count": 10,
   "metadata": {},
   "outputs": [
    {
     "name": "stdout",
     "output_type": "stream",
     "text": [
      "+-----+------------+\n",
      "|baths|count(baths)|\n",
      "+-----+------------+\n",
      "|    5|           2|\n",
      "|    4|          19|\n",
      "|    0|         108|\n",
      "|    3|         132|\n",
      "|    1|         180|\n",
      "|    2|         544|\n",
      "+-----+------------+\n",
      "\n"
     ]
    }
   ],
   "source": [
    "df.groupby('baths').agg({'baths':'count'}).sort(\"count(baths)\").show(200)"
   ]
  },
  {
   "cell_type": "markdown",
   "metadata": {},
   "source": [
    "##### 0? I think we have non-standard null values"
   ]
  },
  {
   "cell_type": "code",
   "execution_count": 11,
   "metadata": {},
   "outputs": [
    {
     "name": "stdout",
     "output_type": "stream",
     "text": [
      "+------------------+-------+-----+-----+----+-----+------+-----------+--------------------+-----+---------+-----------+\n",
      "|            street|   city|  zip|state|beds|baths|sq__ft|       type|           sale_date|price| latitude|  longitude|\n",
      "+------------------+-------+-----+-----+----+-----+------+-----------+--------------------+-----+---------+-----------+\n",
      "|20 CRYSTALWOOD CIR|LINCOLN|95648|   CA|   0|    0|     0|Residential|Mon May 19 00:00:...| 4897|38.885327|-121.289412|\n",
      "|24 CRYSTALWOOD CIR|LINCOLN|95648|   CA|   0|    0|     0|Residential|Mon May 19 00:00:...| 4897|38.885132|-121.289405|\n",
      "|28 CRYSTALWOOD CIR|LINCOLN|95648|   CA|   0|    0|     0|Residential|Mon May 19 00:00:...| 4897|38.884936|-121.289397|\n",
      "|32 CRYSTALWOOD CIR|LINCOLN|95648|   CA|   0|    0|     0|Residential|Mon May 19 00:00:...| 4897|38.884741| -121.28939|\n",
      "|36 CRYSTALWOOD CIR|LINCOLN|95648|   CA|   0|    0|     0|Residential|Mon May 19 00:00:...| 4897|38.884599|-121.289406|\n",
      "+------------------+-------+-----+-----+----+-----+------+-----------+--------------------+-----+---------+-----------+\n",
      "only showing top 5 rows\n",
      "\n"
     ]
    }
   ],
   "source": [
    "df.filter('price<10000').show(5)"
   ]
  },
  {
   "cell_type": "markdown",
   "metadata": {},
   "source": [
    "##### We surely have non-standard null values in beds, baths, sq__ft columns"
   ]
  },
  {
   "cell_type": "code",
   "execution_count": 12,
   "metadata": {},
   "outputs": [],
   "source": [
    "from pyspark.sql.functions import countDistinct"
   ]
  },
  {
   "cell_type": "markdown",
   "metadata": {},
   "source": [
    "#### Using countDistinct to see how many different areas we have"
   ]
  },
  {
   "cell_type": "code",
   "execution_count": 13,
   "metadata": {},
   "outputs": [
    {
     "name": "stdout",
     "output_type": "stream",
     "text": [
      "+-------------------+\n",
      "|count(DISTINCT zip)|\n",
      "+-------------------+\n",
      "|                 68|\n",
      "+-------------------+\n",
      "\n"
     ]
    }
   ],
   "source": [
    "df.select(countDistinct('zip')).show()"
   ]
  },
  {
   "cell_type": "markdown",
   "metadata": {},
   "source": [
    "## Currentyl we know that there are *68 different areas* inside *1 state*, we have *3 different types of houses* having upto *8 bedrooms*, *5 bathrooms* and *multiple cities*"
   ]
  },
  {
   "cell_type": "code",
   "execution_count": 14,
   "metadata": {},
   "outputs": [],
   "source": [
    "import pandas as pd\n",
    "import matplotlib.pyplot as plt"
   ]
  },
  {
   "cell_type": "code",
   "execution_count": 15,
   "metadata": {},
   "outputs": [],
   "source": [
    "dataset = pd.read_csv(\"house_price_dataset.csv\")"
   ]
  },
  {
   "cell_type": "code",
   "execution_count": 16,
   "metadata": {},
   "outputs": [
    {
     "data": {
      "text/html": [
       "<div>\n",
       "<style scoped>\n",
       "    .dataframe tbody tr th:only-of-type {\n",
       "        vertical-align: middle;\n",
       "    }\n",
       "\n",
       "    .dataframe tbody tr th {\n",
       "        vertical-align: top;\n",
       "    }\n",
       "\n",
       "    .dataframe thead th {\n",
       "        text-align: right;\n",
       "    }\n",
       "</style>\n",
       "<table border=\"1\" class=\"dataframe\">\n",
       "  <thead>\n",
       "    <tr style=\"text-align: right;\">\n",
       "      <th></th>\n",
       "      <th>street</th>\n",
       "      <th>city</th>\n",
       "      <th>zip</th>\n",
       "      <th>state</th>\n",
       "      <th>beds</th>\n",
       "      <th>baths</th>\n",
       "      <th>sq__ft</th>\n",
       "      <th>type</th>\n",
       "      <th>sale_date</th>\n",
       "      <th>price</th>\n",
       "      <th>latitude</th>\n",
       "      <th>longitude</th>\n",
       "    </tr>\n",
       "  </thead>\n",
       "  <tbody>\n",
       "    <tr>\n",
       "      <th>0</th>\n",
       "      <td>3526 HIGH ST</td>\n",
       "      <td>SACRAMENTO</td>\n",
       "      <td>95838</td>\n",
       "      <td>CA</td>\n",
       "      <td>2</td>\n",
       "      <td>1</td>\n",
       "      <td>836</td>\n",
       "      <td>Residential</td>\n",
       "      <td>Wed May 21 00:00:00 EDT 2008</td>\n",
       "      <td>59222</td>\n",
       "      <td>38.631913</td>\n",
       "      <td>-121.434879</td>\n",
       "    </tr>\n",
       "    <tr>\n",
       "      <th>1</th>\n",
       "      <td>51 OMAHA CT</td>\n",
       "      <td>SACRAMENTO</td>\n",
       "      <td>95823</td>\n",
       "      <td>CA</td>\n",
       "      <td>3</td>\n",
       "      <td>1</td>\n",
       "      <td>1167</td>\n",
       "      <td>Residential</td>\n",
       "      <td>Wed May 21 00:00:00 EDT 2008</td>\n",
       "      <td>68212</td>\n",
       "      <td>38.478902</td>\n",
       "      <td>-121.431028</td>\n",
       "    </tr>\n",
       "    <tr>\n",
       "      <th>2</th>\n",
       "      <td>2796 BRANCH ST</td>\n",
       "      <td>SACRAMENTO</td>\n",
       "      <td>95815</td>\n",
       "      <td>CA</td>\n",
       "      <td>2</td>\n",
       "      <td>1</td>\n",
       "      <td>796</td>\n",
       "      <td>Residential</td>\n",
       "      <td>Wed May 21 00:00:00 EDT 2008</td>\n",
       "      <td>68880</td>\n",
       "      <td>38.618305</td>\n",
       "      <td>-121.443839</td>\n",
       "    </tr>\n",
       "    <tr>\n",
       "      <th>3</th>\n",
       "      <td>2805 JANETTE WAY</td>\n",
       "      <td>SACRAMENTO</td>\n",
       "      <td>95815</td>\n",
       "      <td>CA</td>\n",
       "      <td>2</td>\n",
       "      <td>1</td>\n",
       "      <td>852</td>\n",
       "      <td>Residential</td>\n",
       "      <td>Wed May 21 00:00:00 EDT 2008</td>\n",
       "      <td>69307</td>\n",
       "      <td>38.616835</td>\n",
       "      <td>-121.439146</td>\n",
       "    </tr>\n",
       "    <tr>\n",
       "      <th>4</th>\n",
       "      <td>6001 MCMAHON DR</td>\n",
       "      <td>SACRAMENTO</td>\n",
       "      <td>95824</td>\n",
       "      <td>CA</td>\n",
       "      <td>2</td>\n",
       "      <td>1</td>\n",
       "      <td>797</td>\n",
       "      <td>Residential</td>\n",
       "      <td>Wed May 21 00:00:00 EDT 2008</td>\n",
       "      <td>81900</td>\n",
       "      <td>38.519470</td>\n",
       "      <td>-121.435768</td>\n",
       "    </tr>\n",
       "  </tbody>\n",
       "</table>\n",
       "</div>"
      ],
      "text/plain": [
       "             street        city    zip state  beds  baths  sq__ft  \\\n",
       "0      3526 HIGH ST  SACRAMENTO  95838    CA     2      1     836   \n",
       "1       51 OMAHA CT  SACRAMENTO  95823    CA     3      1    1167   \n",
       "2    2796 BRANCH ST  SACRAMENTO  95815    CA     2      1     796   \n",
       "3  2805 JANETTE WAY  SACRAMENTO  95815    CA     2      1     852   \n",
       "4   6001 MCMAHON DR  SACRAMENTO  95824    CA     2      1     797   \n",
       "\n",
       "          type                     sale_date  price   latitude   longitude  \n",
       "0  Residential  Wed May 21 00:00:00 EDT 2008  59222  38.631913 -121.434879  \n",
       "1  Residential  Wed May 21 00:00:00 EDT 2008  68212  38.478902 -121.431028  \n",
       "2  Residential  Wed May 21 00:00:00 EDT 2008  68880  38.618305 -121.443839  \n",
       "3  Residential  Wed May 21 00:00:00 EDT 2008  69307  38.616835 -121.439146  \n",
       "4  Residential  Wed May 21 00:00:00 EDT 2008  81900  38.519470 -121.435768  "
      ]
     },
     "execution_count": 16,
     "metadata": {},
     "output_type": "execute_result"
    }
   ],
   "source": [
    "dataset.head()"
   ]
  },
  {
   "cell_type": "markdown",
   "metadata": {},
   "source": [
    "### Using histogram to check overall house price"
   ]
  },
  {
   "cell_type": "code",
   "execution_count": 17,
   "metadata": {},
   "outputs": [
    {
     "data": {
      "text/plain": [
       "<matplotlib.axes._subplots.AxesSubplot at 0x254bc794908>"
      ]
     },
     "execution_count": 17,
     "metadata": {},
     "output_type": "execute_result"
    },
    {
     "data": {
      "image/png": "[encoded data removed]",
      "text/plain": [
       "<Figure size 432x288 with 1 Axes>"
      ]
     },
     "metadata": {
      "needs_background": "light"
     },
     "output_type": "display_data"
    }
   ],
   "source": [
    "dataset['price'].hist()"
   ]
  },
  {
   "cell_type": "markdown",
   "metadata": {},
   "source": [
    "##### Seems like majority of houses are between 100k to 240k?"
   ]
  },
  {
   "cell_type": "markdown",
   "metadata": {},
   "source": [
    "#### Using scatters to see if there is any relation between house area,beds,baths with price"
   ]
  },
  {
   "cell_type": "code",
   "execution_count": 18,
   "metadata": {},
   "outputs": [
    {
     "data": {
      "image/png": "[encoded data removed]",
      "text/plain": [
       "<Figure size 432x288 with 1 Axes>"
      ]
     },
     "metadata": {
      "needs_background": "light"
     },
     "output_type": "display_data"
    }
   ],
   "source": [
    "plt.scatter(x=dataset['sq__ft'],y=dataset['price'])\n",
    "plt.xlabel(\"Area in Sqft\")\n",
    "plt.ylabel(\"Price\")\n",
    "plt.show()"
   ]
  },
  {
   "cell_type": "markdown",
   "metadata": {},
   "source": [
    "##### zeros again?? There definetly is a relation between price and area but I believe area is not the only feature that is affecting increase of price"
   ]
  },
  {
   "cell_type": "code",
   "execution_count": 19,
   "metadata": {},
   "outputs": [
    {
     "data": {
      "image/png": "[encoded data removed]",
      "text/plain": [
       "<Figure size 432x288 with 1 Axes>"
      ]
     },
     "metadata": {
      "needs_background": "light"
     },
     "output_type": "display_data"
    }
   ],
   "source": [
    "plt.scatter(x=dataset['beds'],y=dataset['price'])\n",
    "plt.xlabel(\"beds\")\n",
    "plt.ylabel(\"Price\")\n",
    "plt.show()"
   ]
  },
  {
   "cell_type": "code",
   "execution_count": 20,
   "metadata": {},
   "outputs": [
    {
     "data": {
      "image/png": "[encoded data removed]",
      "text/plain": [
       "<Figure size 432x288 with 1 Axes>"
      ]
     },
     "metadata": {
      "needs_background": "light"
     },
     "output_type": "display_data"
    }
   ],
   "source": [
    "plt.scatter(x=dataset['baths'],y=dataset['baths'])\n",
    "plt.xlabel(\"baths\")\n",
    "plt.ylabel(\"Price\")\n",
    "plt.show()"
   ]
  },
  {
   "cell_type": "markdown",
   "metadata": {},
   "source": [
    "##### Seems like number of bathrooms has a greater role in defining price of house if compared with number of beds"
   ]
  },
  {
   "cell_type": "code",
   "execution_count": 21,
   "metadata": {},
   "outputs": [
    {
     "data": {
      "image/png": "[encoded data removed]",
      "text/plain": [
       "<Figure size 432x288 with 1 Axes>"
      ]
     },
     "metadata": {
      "needs_background": "light"
     },
     "output_type": "display_data"
    }
   ],
   "source": [
    "quality_pivot = dataset.pivot_table(index='beds',values='price',aggfunc=np.median)\n",
    "quality_pivot.plot(kind='bar',color='red')\n",
    "plt.xlabel(\"beds\")\n",
    "plt.ylabel(\"Price\")\n",
    "plt.xticks(rotation=0)\n",
    "plt.show()"
   ]
  },
  {
   "cell_type": "code",
   "execution_count": 22,
   "metadata": {},
   "outputs": [
    {
     "data": {
      "image/png": "[encoded data removed]",
      "text/plain": [
       "<Figure size 432x288 with 1 Axes>"
      ]
     },
     "metadata": {
      "needs_background": "light"
     },
     "output_type": "display_data"
    }
   ],
   "source": [
    "quality_pivot = dataset.pivot_table(index='baths',values='price',aggfunc=np.median)\n",
    "quality_pivot.plot(kind='bar',color='red')\n",
    "plt.xlabel(\"baths\")\n",
    "plt.ylabel(\"Price\")\n",
    "plt.xticks(rotation=0)\n",
    "plt.show()"
   ]
  },
  {
   "cell_type": "markdown",
   "metadata": {},
   "source": [
    "##### From the pivot above it seems like ideal number of bathrooms and bedrooms are 5"
   ]
  },
  {
   "cell_type": "markdown",
   "metadata": {},
   "source": [
    "### Checking relation between zip & price"
   ]
  },
  {
   "cell_type": "code",
   "execution_count": 23,
   "metadata": {},
   "outputs": [
    {
     "data": {
      "image/png": "[encoded data removed]",
      "text/plain": [
       "<Figure size 432x288 with 1 Axes>"
      ]
     },
     "metadata": {
      "needs_background": "light"
     },
     "output_type": "display_data"
    }
   ],
   "source": [
    "quality_pivot = dataset.pivot_table(index='zip',values='price',aggfunc=np.median)\n",
    "quality_pivot.plot(kind='bar',color='red')\n",
    "plt.xlabel(\"zip\")\n",
    "plt.ylabel(\"Price\")\n",
    "plt.xticks(rotation=0)\n",
    "plt.show()"
   ]
  },
  {
   "cell_type": "markdown",
   "metadata": {},
   "source": [
    "### Checking for null values"
   ]
  },
  {
   "cell_type": "code",
   "execution_count": 24,
   "metadata": {},
   "outputs": [
    {
     "data": {
      "text/plain": [
       "street       0\n",
       "city         0\n",
       "zip          0\n",
       "state        0\n",
       "beds         0\n",
       "baths        0\n",
       "sq__ft       0\n",
       "type         0\n",
       "sale_date    0\n",
       "price        0\n",
       "latitude     0\n",
       "longitude    0\n",
       "dtype: int64"
      ]
     },
     "execution_count": 24,
     "metadata": {},
     "output_type": "execute_result"
    }
   ],
   "source": [
    "dataset.isnull().sum()"
   ]
  },
  {
   "cell_type": "markdown",
   "metadata": {},
   "source": [
    "##### no null value? But in above analysis we did see that there is non-standard null value issue"
   ]
  },
  {
   "cell_type": "markdown",
   "metadata": {},
   "source": [
    "### Dropping street, sale_date, latitude, longitude as I believe it has nothing to do with price of house"
   ]
  },
  {
   "cell_type": "code",
   "execution_count": 25,
   "metadata": {},
   "outputs": [],
   "source": [
    "dataset.drop(['street','sale_date','latitude','longitude'],axis=1,inplace=True)"
   ]
  },
  {
   "cell_type": "code",
   "execution_count": 26,
   "metadata": {},
   "outputs": [
    {
     "name": "stdout",
     "output_type": "stream",
     "text": [
      "<class 'pandas.core.frame.DataFrame'>\n",
      "RangeIndex: 985 entries, 0 to 984\n",
      "Data columns (total 8 columns):\n",
      "city      985 non-null object\n",
      "zip       985 non-null int64\n",
      "state     985 non-null object\n",
      "beds      985 non-null int64\n",
      "baths     985 non-null int64\n",
      "sq__ft    985 non-null int64\n",
      "type      985 non-null object\n",
      "price     985 non-null int64\n",
      "dtypes: int64(5), object(3)\n",
      "memory usage: 61.7+ KB\n"
     ]
    }
   ],
   "source": [
    "dataset.info()"
   ]
  },
  {
   "cell_type": "markdown",
   "metadata": {},
   "source": [
    "### Handling those non-standard nulls we saw earlier."
   ]
  },
  {
   "cell_type": "code",
   "execution_count": 27,
   "metadata": {},
   "outputs": [],
   "source": [
    "cols = [\"beds\",\"baths\",\"sq__ft\"]\n",
    "dataset[cols] = dataset[cols].replace({0:np.nan, 0:np.nan})"
   ]
  },
  {
   "cell_type": "markdown",
   "metadata": {},
   "source": [
    "### Now we can see that there are queit a few null values, which I will simply drop instead of filling\n",
    "### because I dont think I can randomly fill number of beds,baths and area with mean,median"
   ]
  },
  {
   "cell_type": "code",
   "execution_count": 28,
   "metadata": {},
   "outputs": [
    {
     "data": {
      "text/plain": [
       "city        0\n",
       "zip         0\n",
       "state       0\n",
       "beds      108\n",
       "baths     108\n",
       "sq__ft    171\n",
       "type        0\n",
       "price       0\n",
       "dtype: int64"
      ]
     },
     "execution_count": 28,
     "metadata": {},
     "output_type": "execute_result"
    }
   ],
   "source": [
    "dataset.isnull().sum()"
   ]
  },
  {
   "cell_type": "code",
   "execution_count": 29,
   "metadata": {},
   "outputs": [],
   "source": [
    "dataset = dataset[dataset['sq__ft'].notna()]"
   ]
  },
  {
   "cell_type": "code",
   "execution_count": 30,
   "metadata": {},
   "outputs": [
    {
     "data": {
      "text/plain": [
       "city      0\n",
       "zip       0\n",
       "state     0\n",
       "beds      0\n",
       "baths     0\n",
       "sq__ft    0\n",
       "type      0\n",
       "price     0\n",
       "dtype: int64"
      ]
     },
     "execution_count": 30,
     "metadata": {},
     "output_type": "execute_result"
    }
   ],
   "source": [
    "dataset.isnull().sum()"
   ]
  },
  {
   "cell_type": "markdown",
   "metadata": {},
   "source": [
    "##### Null values handled"
   ]
  },
  {
   "cell_type": "markdown",
   "metadata": {},
   "source": [
    "### Masking the data as *Other* if it occurs <15 times"
   ]
  },
  {
   "cell_type": "code",
   "execution_count": 31,
   "metadata": {},
   "outputs": [
    {
     "data": {
      "text/plain": [
       "CA    814\n",
       "Name: state, dtype: int64"
      ]
     },
     "execution_count": 31,
     "metadata": {},
     "output_type": "execute_result"
    }
   ],
   "source": [
    "dataset['state'].value_counts()"
   ]
  },
  {
   "cell_type": "code",
   "execution_count": 32,
   "metadata": {},
   "outputs": [
    {
     "data": {
      "text/plain": [
       "SACRAMENTO         424\n",
       "ELK GROVE          107\n",
       "CITRUS HEIGHTS      35\n",
       "ANTELOPE            33\n",
       "ROSEVILLE           28\n",
       "NORTH HIGHLANDS     21\n",
       "RANCHO CORDOVA      21\n",
       "GALT                20\n",
       "CARMICHAEL          20\n",
       "FOLSOM              15\n",
       "RIO LINDA           12\n",
       "ORANGEVALE          11\n",
       "FAIR OAKS            9\n",
       "ROCKLIN              8\n",
       "LINCOLN              6\n",
       "PLACERVILLE          5\n",
       "ELVERTA              4\n",
       "WILTON               4\n",
       "GRANITE BAY          3\n",
       "POLLOCK PINES        3\n",
       "AUBURN               3\n",
       "EL DORADO HILLS      3\n",
       "GOLD RIVER           3\n",
       "LOOMIS               2\n",
       "RANCHO MURIETA       2\n",
       "EL DORADO            2\n",
       "CAMERON PARK         1\n",
       "GREENWOOD            1\n",
       "DIAMOND SPRINGS      1\n",
       "WEST SACRAMENTO      1\n",
       "SLOUGHHOUSE          1\n",
       "WALNUT GROVE         1\n",
       "MEADOW VISTA         1\n",
       "COOL                 1\n",
       "PENRYN               1\n",
       "MATHER               1\n",
       "Name: city, dtype: int64"
      ]
     },
     "execution_count": 32,
     "metadata": {},
     "output_type": "execute_result"
    }
   ],
   "source": [
    "city_count = dataset['city'].value_counts()\n",
    "city_count"
   ]
  },
  {
   "cell_type": "code",
   "execution_count": 33,
   "metadata": {},
   "outputs": [
    {
     "data": {
      "text/plain": [
       "Residential     759\n",
       "Condo            42\n",
       "Multi-Family     13\n",
       "Name: type, dtype: int64"
      ]
     },
     "execution_count": 33,
     "metadata": {},
     "output_type": "execute_result"
    }
   ],
   "source": [
    "type_count = dataset['type'].value_counts()\n",
    "type_count"
   ]
  },
  {
   "cell_type": "code",
   "execution_count": 34,
   "metadata": {},
   "outputs": [],
   "source": [
    "city_mask = dataset['city'].isin(city_count[city_count<15].index)\n",
    "type_mask = dataset['type'].isin(type_count[type_count<15].index)"
   ]
  },
  {
   "cell_type": "code",
   "execution_count": 35,
   "metadata": {},
   "outputs": [],
   "source": [
    "dataset['city'][city_mask] = 'Other'"
   ]
  },
  {
   "cell_type": "code",
   "execution_count": 36,
   "metadata": {},
   "outputs": [],
   "source": [
    "dataset['type'][type_mask] = 'Other'"
   ]
  },
  {
   "cell_type": "code",
   "execution_count": 37,
   "metadata": {},
   "outputs": [
    {
     "data": {
      "text/plain": [
       "Residential    759\n",
       "Condo           42\n",
       "Other           13\n",
       "Name: type, dtype: int64"
      ]
     },
     "execution_count": 37,
     "metadata": {},
     "output_type": "execute_result"
    }
   ],
   "source": [
    "dataset['type'].value_counts()"
   ]
  },
  {
   "cell_type": "code",
   "execution_count": 38,
   "metadata": {},
   "outputs": [
    {
     "data": {
      "text/plain": [
       "SACRAMENTO         424\n",
       "ELK GROVE          107\n",
       "Other               90\n",
       "CITRUS HEIGHTS      35\n",
       "ANTELOPE            33\n",
       "ROSEVILLE           28\n",
       "NORTH HIGHLANDS     21\n",
       "RANCHO CORDOVA      21\n",
       "CARMICHAEL          20\n",
       "GALT                20\n",
       "FOLSOM              15\n",
       "Name: city, dtype: int64"
      ]
     },
     "execution_count": 38,
     "metadata": {},
     "output_type": "execute_result"
    }
   ],
   "source": [
    "dataset['city'].value_counts()"
   ]
  },
  {
   "cell_type": "markdown",
   "metadata": {},
   "source": [
    "### One Hot Encoding Categorical data, because we know that machine learning algorithms dont work well with string based data"
   ]
  },
  {
   "cell_type": "code",
   "execution_count": 39,
   "metadata": {},
   "outputs": [],
   "source": [
    "dataset = pd.get_dummies(dataset,columns=['state','city','type'],prefix=['st','ct','t'])"
   ]
  },
  {
   "cell_type": "code",
   "execution_count": 40,
   "metadata": {},
   "outputs": [
    {
     "data": {
      "text/plain": [
       "Index(['zip', 'beds', 'baths', 'sq__ft', 'price', 'st_CA', 'ct_ANTELOPE',\n",
       "       'ct_CARMICHAEL', 'ct_CITRUS HEIGHTS', 'ct_ELK GROVE', 'ct_FOLSOM',\n",
       "       'ct_GALT', 'ct_NORTH HIGHLANDS', 'ct_Other', 'ct_RANCHO CORDOVA',\n",
       "       'ct_ROSEVILLE', 'ct_SACRAMENTO', 't_Condo', 't_Other', 't_Residential'],\n",
       "      dtype='object')"
      ]
     },
     "execution_count": 40,
     "metadata": {},
     "output_type": "execute_result"
    }
   ],
   "source": [
    "dataset.columns"
   ]
  },
  {
   "cell_type": "code",
   "execution_count": 41,
   "metadata": {},
   "outputs": [
    {
     "data": {
      "text/html": [
       "<div>\n",
       "<style scoped>\n",
       "    .dataframe tbody tr th:only-of-type {\n",
       "        vertical-align: middle;\n",
       "    }\n",
       "\n",
       "    .dataframe tbody tr th {\n",
       "        vertical-align: top;\n",
       "    }\n",
       "\n",
       "    .dataframe thead th {\n",
       "        text-align: right;\n",
       "    }\n",
       "</style>\n",
       "<table border=\"1\" class=\"dataframe\">\n",
       "  <thead>\n",
       "    <tr style=\"text-align: right;\">\n",
       "      <th></th>\n",
       "      <th>zip</th>\n",
       "      <th>beds</th>\n",
       "      <th>baths</th>\n",
       "      <th>sq__ft</th>\n",
       "      <th>price</th>\n",
       "      <th>st_CA</th>\n",
       "      <th>ct_ANTELOPE</th>\n",
       "      <th>ct_CARMICHAEL</th>\n",
       "      <th>ct_CITRUS HEIGHTS</th>\n",
       "      <th>ct_ELK GROVE</th>\n",
       "      <th>ct_FOLSOM</th>\n",
       "      <th>ct_GALT</th>\n",
       "      <th>ct_NORTH HIGHLANDS</th>\n",
       "      <th>ct_Other</th>\n",
       "      <th>ct_RANCHO CORDOVA</th>\n",
       "      <th>ct_ROSEVILLE</th>\n",
       "      <th>ct_SACRAMENTO</th>\n",
       "      <th>t_Condo</th>\n",
       "      <th>t_Other</th>\n",
       "      <th>t_Residential</th>\n",
       "    </tr>\n",
       "  </thead>\n",
       "  <tbody>\n",
       "    <tr>\n",
       "      <th>0</th>\n",
       "      <td>95838</td>\n",
       "      <td>2.0</td>\n",
       "      <td>1.0</td>\n",
       "      <td>836.0</td>\n",
       "      <td>59222</td>\n",
       "      <td>1</td>\n",
       "      <td>0</td>\n",
       "      <td>0</td>\n",
       "      <td>0</td>\n",
       "      <td>0</td>\n",
       "      <td>0</td>\n",
       "      <td>0</td>\n",
       "      <td>0</td>\n",
       "      <td>0</td>\n",
       "      <td>0</td>\n",
       "      <td>0</td>\n",
       "      <td>1</td>\n",
       "      <td>0</td>\n",
       "      <td>0</td>\n",
       "      <td>1</td>\n",
       "    </tr>\n",
       "    <tr>\n",
       "      <th>1</th>\n",
       "      <td>95823</td>\n",
       "      <td>3.0</td>\n",
       "      <td>1.0</td>\n",
       "      <td>1167.0</td>\n",
       "      <td>68212</td>\n",
       "      <td>1</td>\n",
       "      <td>0</td>\n",
       "      <td>0</td>\n",
       "      <td>0</td>\n",
       "      <td>0</td>\n",
       "      <td>0</td>\n",
       "      <td>0</td>\n",
       "      <td>0</td>\n",
       "      <td>0</td>\n",
       "      <td>0</td>\n",
       "      <td>0</td>\n",
       "      <td>1</td>\n",
       "      <td>0</td>\n",
       "      <td>0</td>\n",
       "      <td>1</td>\n",
       "    </tr>\n",
       "    <tr>\n",
       "      <th>2</th>\n",
       "      <td>95815</td>\n",
       "      <td>2.0</td>\n",
       "      <td>1.0</td>\n",
       "      <td>796.0</td>\n",
       "      <td>68880</td>\n",
       "      <td>1</td>\n",
       "      <td>0</td>\n",
       "      <td>0</td>\n",
       "      <td>0</td>\n",
       "      <td>0</td>\n",
       "      <td>0</td>\n",
       "      <td>0</td>\n",
       "      <td>0</td>\n",
       "      <td>0</td>\n",
       "      <td>0</td>\n",
       "      <td>0</td>\n",
       "      <td>1</td>\n",
       "      <td>0</td>\n",
       "      <td>0</td>\n",
       "      <td>1</td>\n",
       "    </tr>\n",
       "    <tr>\n",
       "      <th>3</th>\n",
       "      <td>95815</td>\n",
       "      <td>2.0</td>\n",
       "      <td>1.0</td>\n",
       "      <td>852.0</td>\n",
       "      <td>69307</td>\n",
       "      <td>1</td>\n",
       "      <td>0</td>\n",
       "      <td>0</td>\n",
       "      <td>0</td>\n",
       "      <td>0</td>\n",
       "      <td>0</td>\n",
       "      <td>0</td>\n",
       "      <td>0</td>\n",
       "      <td>0</td>\n",
       "      <td>0</td>\n",
       "      <td>0</td>\n",
       "      <td>1</td>\n",
       "      <td>0</td>\n",
       "      <td>0</td>\n",
       "      <td>1</td>\n",
       "    </tr>\n",
       "    <tr>\n",
       "      <th>4</th>\n",
       "      <td>95824</td>\n",
       "      <td>2.0</td>\n",
       "      <td>1.0</td>\n",
       "      <td>797.0</td>\n",
       "      <td>81900</td>\n",
       "      <td>1</td>\n",
       "      <td>0</td>\n",
       "      <td>0</td>\n",
       "      <td>0</td>\n",
       "      <td>0</td>\n",
       "      <td>0</td>\n",
       "      <td>0</td>\n",
       "      <td>0</td>\n",
       "      <td>0</td>\n",
       "      <td>0</td>\n",
       "      <td>0</td>\n",
       "      <td>1</td>\n",
       "      <td>0</td>\n",
       "      <td>0</td>\n",
       "      <td>1</td>\n",
       "    </tr>\n",
       "  </tbody>\n",
       "</table>\n",
       "</div>"
      ],
      "text/plain": [
       "     zip  beds  baths  sq__ft  price  st_CA  ct_ANTELOPE  ct_CARMICHAEL  \\\n",
       "0  95838   2.0    1.0   836.0  59222      1            0              0   \n",
       "1  95823   3.0    1.0  1167.0  68212      1            0              0   \n",
       "2  95815   2.0    1.0   796.0  68880      1            0              0   \n",
       "3  95815   2.0    1.0   852.0  69307      1            0              0   \n",
       "4  95824   2.0    1.0   797.0  81900      1            0              0   \n",
       "\n",
       "   ct_CITRUS HEIGHTS  ct_ELK GROVE  ct_FOLSOM  ct_GALT  ct_NORTH HIGHLANDS  \\\n",
       "0                  0             0          0        0                   0   \n",
       "1                  0             0          0        0                   0   \n",
       "2                  0             0          0        0                   0   \n",
       "3                  0             0          0        0                   0   \n",
       "4                  0             0          0        0                   0   \n",
       "\n",
       "   ct_Other  ct_RANCHO CORDOVA  ct_ROSEVILLE  ct_SACRAMENTO  t_Condo  t_Other  \\\n",
       "0         0                  0             0              1        0        0   \n",
       "1         0                  0             0              1        0        0   \n",
       "2         0                  0             0              1        0        0   \n",
       "3         0                  0             0              1        0        0   \n",
       "4         0                  0             0              1        0        0   \n",
       "\n",
       "   t_Residential  \n",
       "0              1  \n",
       "1              1  \n",
       "2              1  \n",
       "3              1  \n",
       "4              1  "
      ]
     },
     "execution_count": 41,
     "metadata": {},
     "output_type": "execute_result"
    }
   ],
   "source": [
    "dataset.head()"
   ]
  },
  {
   "cell_type": "markdown",
   "metadata": {},
   "source": [
    "### Normalizing the data using MinMaxScaler so that the data is in between 0-1"
   ]
  },
  {
   "cell_type": "code",
   "execution_count": 42,
   "metadata": {},
   "outputs": [],
   "source": [
    "nonCat_columns = ['zip','beds','baths','sq__ft']\n",
    "from sklearn.preprocessing import MinMaxScaler\n",
    "scl = MinMaxScaler()"
   ]
  },
  {
   "cell_type": "code",
   "execution_count": 43,
   "metadata": {},
   "outputs": [],
   "source": [
    "for i in nonCat_columns:\n",
    "    scl.fit(dataset[[i]])\n",
    "    dataset[i] = scl.transform(dataset[[i]])"
   ]
  },
  {
   "cell_type": "code",
   "execution_count": 44,
   "metadata": {},
   "outputs": [
    {
     "data": {
      "text/html": [
       "<div>\n",
       "<style scoped>\n",
       "    .dataframe tbody tr th:only-of-type {\n",
       "        vertical-align: middle;\n",
       "    }\n",
       "\n",
       "    .dataframe tbody tr th {\n",
       "        vertical-align: top;\n",
       "    }\n",
       "\n",
       "    .dataframe thead th {\n",
       "        text-align: right;\n",
       "    }\n",
       "</style>\n",
       "<table border=\"1\" class=\"dataframe\">\n",
       "  <thead>\n",
       "    <tr style=\"text-align: right;\">\n",
       "      <th></th>\n",
       "      <th>zip</th>\n",
       "      <th>beds</th>\n",
       "      <th>baths</th>\n",
       "      <th>sq__ft</th>\n",
       "      <th>price</th>\n",
       "      <th>st_CA</th>\n",
       "      <th>ct_ANTELOPE</th>\n",
       "      <th>ct_CARMICHAEL</th>\n",
       "      <th>ct_CITRUS HEIGHTS</th>\n",
       "      <th>ct_ELK GROVE</th>\n",
       "      <th>ct_FOLSOM</th>\n",
       "      <th>ct_GALT</th>\n",
       "      <th>ct_NORTH HIGHLANDS</th>\n",
       "      <th>ct_Other</th>\n",
       "      <th>ct_RANCHO CORDOVA</th>\n",
       "      <th>ct_ROSEVILLE</th>\n",
       "      <th>ct_SACRAMENTO</th>\n",
       "      <th>t_Condo</th>\n",
       "      <th>t_Other</th>\n",
       "      <th>t_Residential</th>\n",
       "    </tr>\n",
       "  </thead>\n",
       "  <tbody>\n",
       "    <tr>\n",
       "      <th>0</th>\n",
       "      <td>0.900383</td>\n",
       "      <td>0.142857</td>\n",
       "      <td>0.0</td>\n",
       "      <td>0.065942</td>\n",
       "      <td>59222</td>\n",
       "      <td>1</td>\n",
       "      <td>0</td>\n",
       "      <td>0</td>\n",
       "      <td>0</td>\n",
       "      <td>0</td>\n",
       "      <td>0</td>\n",
       "      <td>0</td>\n",
       "      <td>0</td>\n",
       "      <td>0</td>\n",
       "      <td>0</td>\n",
       "      <td>0</td>\n",
       "      <td>1</td>\n",
       "      <td>0</td>\n",
       "      <td>0</td>\n",
       "      <td>1</td>\n",
       "    </tr>\n",
       "    <tr>\n",
       "      <th>1</th>\n",
       "      <td>0.842912</td>\n",
       "      <td>0.285714</td>\n",
       "      <td>0.0</td>\n",
       "      <td>0.127951</td>\n",
       "      <td>68212</td>\n",
       "      <td>1</td>\n",
       "      <td>0</td>\n",
       "      <td>0</td>\n",
       "      <td>0</td>\n",
       "      <td>0</td>\n",
       "      <td>0</td>\n",
       "      <td>0</td>\n",
       "      <td>0</td>\n",
       "      <td>0</td>\n",
       "      <td>0</td>\n",
       "      <td>0</td>\n",
       "      <td>1</td>\n",
       "      <td>0</td>\n",
       "      <td>0</td>\n",
       "      <td>1</td>\n",
       "    </tr>\n",
       "    <tr>\n",
       "      <th>2</th>\n",
       "      <td>0.812261</td>\n",
       "      <td>0.142857</td>\n",
       "      <td>0.0</td>\n",
       "      <td>0.058449</td>\n",
       "      <td>68880</td>\n",
       "      <td>1</td>\n",
       "      <td>0</td>\n",
       "      <td>0</td>\n",
       "      <td>0</td>\n",
       "      <td>0</td>\n",
       "      <td>0</td>\n",
       "      <td>0</td>\n",
       "      <td>0</td>\n",
       "      <td>0</td>\n",
       "      <td>0</td>\n",
       "      <td>0</td>\n",
       "      <td>1</td>\n",
       "      <td>0</td>\n",
       "      <td>0</td>\n",
       "      <td>1</td>\n",
       "    </tr>\n",
       "    <tr>\n",
       "      <th>3</th>\n",
       "      <td>0.812261</td>\n",
       "      <td>0.142857</td>\n",
       "      <td>0.0</td>\n",
       "      <td>0.068940</td>\n",
       "      <td>69307</td>\n",
       "      <td>1</td>\n",
       "      <td>0</td>\n",
       "      <td>0</td>\n",
       "      <td>0</td>\n",
       "      <td>0</td>\n",
       "      <td>0</td>\n",
       "      <td>0</td>\n",
       "      <td>0</td>\n",
       "      <td>0</td>\n",
       "      <td>0</td>\n",
       "      <td>0</td>\n",
       "      <td>1</td>\n",
       "      <td>0</td>\n",
       "      <td>0</td>\n",
       "      <td>1</td>\n",
       "    </tr>\n",
       "    <tr>\n",
       "      <th>4</th>\n",
       "      <td>0.846743</td>\n",
       "      <td>0.142857</td>\n",
       "      <td>0.0</td>\n",
       "      <td>0.058636</td>\n",
       "      <td>81900</td>\n",
       "      <td>1</td>\n",
       "      <td>0</td>\n",
       "      <td>0</td>\n",
       "      <td>0</td>\n",
       "      <td>0</td>\n",
       "      <td>0</td>\n",
       "      <td>0</td>\n",
       "      <td>0</td>\n",
       "      <td>0</td>\n",
       "      <td>0</td>\n",
       "      <td>0</td>\n",
       "      <td>1</td>\n",
       "      <td>0</td>\n",
       "      <td>0</td>\n",
       "      <td>1</td>\n",
       "    </tr>\n",
       "  </tbody>\n",
       "</table>\n",
       "</div>"
      ],
      "text/plain": [
       "        zip      beds  baths    sq__ft  price  st_CA  ct_ANTELOPE  \\\n",
       "0  0.900383  0.142857    0.0  0.065942  59222      1            0   \n",
       "1  0.842912  0.285714    0.0  0.127951  68212      1            0   \n",
       "2  0.812261  0.142857    0.0  0.058449  68880      1            0   \n",
       "3  0.812261  0.142857    0.0  0.068940  69307      1            0   \n",
       "4  0.846743  0.142857    0.0  0.058636  81900      1            0   \n",
       "\n",
       "   ct_CARMICHAEL  ct_CITRUS HEIGHTS  ct_ELK GROVE  ct_FOLSOM  ct_GALT  \\\n",
       "0              0                  0             0          0        0   \n",
       "1              0                  0             0          0        0   \n",
       "2              0                  0             0          0        0   \n",
       "3              0                  0             0          0        0   \n",
       "4              0                  0             0          0        0   \n",
       "\n",
       "   ct_NORTH HIGHLANDS  ct_Other  ct_RANCHO CORDOVA  ct_ROSEVILLE  \\\n",
       "0                   0         0                  0             0   \n",
       "1                   0         0                  0             0   \n",
       "2                   0         0                  0             0   \n",
       "3                   0         0                  0             0   \n",
       "4                   0         0                  0             0   \n",
       "\n",
       "   ct_SACRAMENTO  t_Condo  t_Other  t_Residential  \n",
       "0              1        0        0              1  \n",
       "1              1        0        0              1  \n",
       "2              1        0        0              1  \n",
       "3              1        0        0              1  \n",
       "4              1        0        0              1  "
      ]
     },
     "execution_count": 44,
     "metadata": {},
     "output_type": "execute_result"
    }
   ],
   "source": [
    "dataset.head()"
   ]
  },
  {
   "cell_type": "markdown",
   "metadata": {},
   "source": [
    "### Machine Learning"
   ]
  },
  {
   "cell_type": "markdown",
   "metadata": {},
   "source": [
    "#### Gradient Boosting Regressor"
   ]
  },
  {
   "cell_type": "code",
   "execution_count": 45,
   "metadata": {},
   "outputs": [],
   "source": [
    "from sklearn.ensemble import GradientBoostingRegressor\n",
    "from sklearn.model_selection import train_test_split"
   ]
  },
  {
   "cell_type": "code",
   "execution_count": 46,
   "metadata": {},
   "outputs": [],
   "source": [
    "X = dataset.drop(['price'],axis=1)\n",
    "Y = dataset['price']"
   ]
  },
  {
   "cell_type": "code",
   "execution_count": 47,
   "metadata": {},
   "outputs": [],
   "source": [
    "x_train,x_test,y_train,y_test = train_test_split(X,Y,test_size=0.3)"
   ]
  },
  {
   "cell_type": "code",
   "execution_count": 48,
   "metadata": {},
   "outputs": [],
   "source": [
    "model = GradientBoostingRegressor(n_estimators=1500,learning_rate=0.01)\n",
    "model.fit(x_train,y_train)\n",
    "predictions = model.predict(x_test)\n",
    "#print(\"Model Score: \" + str(model.score(x_test,y_test)))"
   ]
  },
  {
   "cell_type": "markdown",
   "metadata": {},
   "source": [
    "#### Randomly selecting predicted data vs actual data"
   ]
  },
  {
   "cell_type": "code",
   "execution_count": 49,
   "metadata": {},
   "outputs": [
    {
     "name": "stdout",
     "output_type": "stream",
     "text": [
      "Predicted: 159463.3973551003 - Actual: 148750\n",
      "Predicted: 138693.83666718734 - Actual: 145000\n",
      "Predicted: 768308.3860678865 - Actual: 691659\n",
      "Predicted: 195405.37177863915 - Actual: 225000\n",
      "Predicted: 149206.4703108199 - Actual: 65000\n",
      "Predicted: 315213.87917691085 - Actual: 445000\n",
      "Predicted: 142788.24672753434 - Actual: 244960\n",
      "Predicted: 203119.20994274737 - Actual: 225000\n",
      "Predicted: 360813.24522189045 - Actual: 485000\n",
      "Predicted: 273413.29410375206 - Actual: 223058\n",
      "Predicted: 209335.97660536537 - Actual: 207000\n",
      "Predicted: 134002.24278768385 - Actual: 78400\n",
      "Predicted: 256461.6715575343 - Actual: 347029\n",
      "Predicted: 86940.04221270708 - Actual: 75000\n",
      "Predicted: 285063.9055024084 - Actual: 291000\n",
      "Predicted: 164617.0228697754 - Actual: 264469\n",
      "Predicted: 186129.58478657753 - Actual: 189000\n",
      "Predicted: 115286.24755467336 - Actual: 63000\n",
      "Predicted: 184670.58607844348 - Actual: 157500\n",
      "Predicted: 212853.19499741602 - Actual: 265000\n"
     ]
    }
   ],
   "source": [
    "import random\n",
    "indexes = []\n",
    "actual = y_test.iloc[:].values\n",
    "for i in range(0,20):\n",
    "    temp = random.randint(0,len(predictions)-1)\n",
    "    if temp not in indexes:\n",
    "        print(\"Predicted: \"+str(predictions[temp])+\" - Actual: \"+str(actual[temp]))\n",
    "        indexes.append(temp)"
   ]
  },
  {
   "cell_type": "markdown",
   "metadata": {},
   "source": [
    "#### KNN"
   ]
  },
  {
   "cell_type": "code",
   "execution_count": 50,
   "metadata": {},
   "outputs": [],
   "source": [
    "from sklearn.neighbors import KNeighborsRegressor\n",
    "model = KNeighborsRegressor(n_neighbors=3) \n",
    "model.fit(x_train, y_train)\n",
    "predictions = model.predict(x_test)\n",
    "model_score = model.score(x_test,y_test)\n",
    "#print(model_score)"
   ]
  },
  {
   "cell_type": "markdown",
   "metadata": {},
   "source": [
    "#### Randomly selecting predicted data vs actual data"
   ]
  },
  {
   "cell_type": "code",
   "execution_count": 51,
   "metadata": {},
   "outputs": [
    {
     "name": "stdout",
     "output_type": "stream",
     "text": [
      "Predicted: 253192.66666666666 - Actual: 230000\n",
      "Predicted: 192341.33333333334 - Actual: 299000\n",
      "Predicted: 240002.0 - Actual: 126000\n",
      "Predicted: 325601.6666666667 - Actual: 234000\n",
      "Predicted: 159417.33333333334 - Actual: 63000\n",
      "Predicted: 492000.0 - Actual: 423000\n",
      "Predicted: 170416.66666666666 - Actual: 416767\n",
      "Predicted: 272954.0 - Actual: 225000\n",
      "Predicted: 221119.66666666666 - Actual: 132000\n",
      "Predicted: 394416.6666666667 - Actual: 539000\n",
      "Predicted: 247083.33333333334 - Actual: 506688\n",
      "Predicted: 96003.33333333333 - Actual: 65000\n",
      "Predicted: 107736.66666666667 - Actual: 77000\n",
      "Predicted: 172833.33333333334 - Actual: 181000\n",
      "Predicted: 198119.0 - Actual: 168000\n",
      "Predicted: 226000.0 - Actual: 255000\n",
      "Predicted: 247666.66666666666 - Actual: 240000\n",
      "Predicted: 175632.0 - Actual: 229000\n",
      "Predicted: 180350.0 - Actual: 93675\n",
      "Predicted: 210833.33333333334 - Actual: 285000\n"
     ]
    }
   ],
   "source": [
    "import random\n",
    "indexes = []\n",
    "actual = y_test.iloc[:].values\n",
    "for i in range(0,20):\n",
    "    temp = random.randint(0,len(predictions)-1)\n",
    "    if temp not in indexes:\n",
    "        print(\"Predicted: \"+str(predictions[temp])+\" - Actual: \"+str(actual[temp]))\n",
    "        indexes.append(temp)"
   ]
  }
 ],
 "metadata": {
  "kernelspec": {
   "display_name": "Python 3",
   "language": "python",
   "name": "python3"
  },
  "language_info": {
   "codemirror_mode": {
    "name": "ipython",
    "version": 3
   },
   "file_extension": ".py",
   "mimetype": "text/x-python",
   "name": "python",
   "nbconvert_exporter": "python",
   "pygments_lexer": "ipython3",
   "version": "3.6.1"
  }
 },
 "nbformat": 4,
 "nbformat_minor": 2
}
